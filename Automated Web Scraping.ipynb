{
 "cells": [
  {
   "cell_type": "code",
   "execution_count": 1,
   "id": "065ed8c0-36be-4993-bb72-51fb1ee90a46",
   "metadata": {},
   "outputs": [
    {
     "name": "stdout",
     "output_type": "stream",
     "text": [
      "Defaulting to user installation because normal site-packages is not writeable\n",
      "Requirement already satisfied: autoscraper in c:\\users\\lenovo\\appdata\\roaming\\python\\python311\\site-packages (1.1.14)\n",
      "Requirement already satisfied: requests in d:\\program files\\anaconda3\\lib\\site-packages (from autoscraper) (2.31.0)\n",
      "Requirement already satisfied: bs4 in c:\\users\\lenovo\\appdata\\roaming\\python\\python311\\site-packages (from autoscraper) (0.0.2)\n",
      "Requirement already satisfied: lxml in d:\\program files\\anaconda3\\lib\\site-packages (from autoscraper) (4.9.3)\n",
      "Requirement already satisfied: beautifulsoup4 in d:\\program files\\anaconda3\\lib\\site-packages (from bs4->autoscraper) (4.12.2)\n",
      "Requirement already satisfied: charset-normalizer<4,>=2 in d:\\program files\\anaconda3\\lib\\site-packages (from requests->autoscraper) (2.0.4)\n",
      "Requirement already satisfied: idna<4,>=2.5 in d:\\program files\\anaconda3\\lib\\site-packages (from requests->autoscraper) (3.4)\n",
      "Requirement already satisfied: urllib3<3,>=1.21.1 in d:\\program files\\anaconda3\\lib\\site-packages (from requests->autoscraper) (2.0.7)\n",
      "Requirement already satisfied: certifi>=2017.4.17 in d:\\program files\\anaconda3\\lib\\site-packages (from requests->autoscraper) (2024.2.2)\n",
      "Requirement already satisfied: soupsieve>1.2 in d:\\program files\\anaconda3\\lib\\site-packages (from beautifulsoup4->bs4->autoscraper) (2.5)\n"
     ]
    }
   ],
   "source": [
    "# Install autoscraper\n",
    "!pip install autoscraper"
   ]
  },
  {
   "cell_type": "code",
   "execution_count": 2,
   "id": "c4c3b0b6-8401-4248-8562-6fec7cb248f7",
   "metadata": {},
   "outputs": [
    {
     "name": "stdout",
     "output_type": "stream",
     "text": [
      "['Apple iPhone 13 (128GB) - Midnight', 'Apple iPhone 13 (128GB) - Green', 'Apple iPhone 13 (128GB) - Starlight', 'Apple iPhone 15 (128 GB) - Black', 'Apple iPhone 13 (128GB) - Pink', 'Apple iPhone 14 (128 GB) - Blue', 'Apple iPhone 15 (128 GB) - Blue', 'Apple iPhone 13 (128GB) - Blue', 'Apple iPhone 15 (128 GB) - Pink', 'Apple iPhone 15 Plus (128 GB) - Black', 'Apple iPhone 13 (256GB) - Blue', 'Apple iPhone 14 Plus (128 GB) - Purple', 'Apple iPhone 15 (128 GB) - Green', 'Apple iPhone 13 (256GB) - Starlight', 'Apple iPhone 14 (128 GB) - Purple', 'Apple iPhone 14 (128 GB) - Midnight', '₹49,300', '₹52,900', '₹70,999', '₹52,090', '₹62,800', '₹81,999', '₹59,900', '₹64,999']\n"
     ]
    }
   ],
   "source": [
    "# import libraries\n",
    "from autoscraper import AutoScraper\n",
    "import pandas as pd\n",
    "\n",
    "# search url & data I want\n",
    "amazon_url = 'https://www.amazon.in/s?k=iphone'\n",
    "wanted_list = ['Apple iPhone 13 (128GB) - Midnight', \"₹49,300\"]\n",
    "\n",
    "# scraper object to search data\n",
    "scraper = AutoScraper() \n",
    "result = scraper.build(amazon_url, wanted_list)\n",
    "print(result)"
   ]
  },
  {
   "cell_type": "code",
   "execution_count": 3,
   "id": "c4644ffd-b723-4141-9559-c55b7930a830",
   "metadata": {},
   "outputs": [
    {
     "name": "stdout",
     "output_type": "stream",
     "text": [
      "{'rule_cxq4': ['Apple iPhone 13 (128GB) - Midnight', 'Apple iPhone 13 (128GB) - Green', 'Apple iPhone 13 (128GB) - Starlight', 'Apple iPhone 15 (128 GB) - Black', 'Apple iPhone 13 (128GB) - Pink', 'Apple iPhone 14 (128 GB) - Blue', 'Apple iPhone 15 (128 GB) - Blue', 'Apple iPhone 13 (128GB) - Blue', 'Apple iPhone 15 (128 GB) - Pink', 'Apple iPhone 15 Plus (128 GB) - Black', 'Apple iPhone 13 (256GB) - Blue', 'Apple iPhone 14 Plus (128 GB) - Purple', 'Apple iPhone 15 (128 GB) - Green', 'Apple iPhone 13 (256GB) - Starlight', 'Apple iPhone 14 (128 GB) - Purple', 'Apple iPhone 14 (128 GB) - Midnight'], 'rule_gk3a': ['Apple iPhone 13 (128GB) - Midnight', 'Apple iPhone 13 (128GB) - Green', 'Apple iPhone 13 (128GB) - Starlight', 'Apple iPhone 15 (128 GB) - Black', 'Apple iPhone 13 (128GB) - Pink', 'Apple iPhone 14 (128 GB) - Blue', 'Apple iPhone 15 (128 GB) - Blue', 'Apple iPhone 13 (128GB) - Blue', 'Apple iPhone 15 (128 GB) - Pink', 'Apple iPhone 15 Plus (128 GB) - Black', 'Apple iPhone 13 (256GB) - Blue', 'Apple iPhone 14 Plus (128 GB) - Purple', 'Apple iPhone 15 (128 GB) - Green', 'Apple iPhone 13 (256GB) - Starlight', 'Apple iPhone 14 (128 GB) - Purple', 'Apple iPhone 14 (128 GB) - Midnight'], 'rule_v28f': ['Apple iPhone 15 (128 GB) - Black', 'Apple iPhone 13 (128GB) - Midnight'], 'rule_q9gq': ['Apple iPhone 13 (128GB) - Midnight', 'Apple iPhone 13 (128GB) - Blue', 'Apple iPhone 13 (128GB) - Starlight'], 'rule_7yh1': ['₹49,300', '₹49,300', '₹52,900', '₹70,999', '₹52,090', '₹62,800', '₹70,999', '₹52,090', '₹70,999', '₹81,999', '₹59,900', '₹64,999', '₹70,999', '₹59,900', '₹62,800', '₹62,800'], 'rule_z77i': ['₹49,300', '₹49,300', '₹52,900', '₹70,999', '₹52,090', '₹62,800', '₹70,999', '₹52,090', '₹70,999', '₹81,999', '₹59,900', '₹64,999', '₹70,999', '₹59,900', '₹62,800', '₹62,800'], 'rule_b9ja': ['₹49,300', '₹49,300', '₹52,900', '₹70,999', '₹52,090', '₹62,800', '₹70,999', '₹52,090', '₹70,999', '₹81,999', '₹59,900', '₹64,999', '₹70,999', '₹59,900', '₹62,800', '₹62,800'], 'rule_tx40': ['₹49,300', '₹49,300', '₹52,900', '₹70,999', '₹52,090', '₹62,800', '₹70,999', '₹52,090', '₹70,999', '₹81,999', '₹59,900', '₹64,999', '₹70,999', '₹59,900', '₹62,800', '₹62,800'], 'rule_gulq': ['₹70,999', '₹49,300'], 'rule_uv5t': ['₹70,999', '₹49,300'], 'rule_qd5k': ['₹49,300', '₹52,090', '₹52,900'], 'rule_q2jt': ['₹49,300', '₹52,090', '₹52,900']}\n"
     ]
    }
   ],
   "source": [
    "# Finding similar data\n",
    "data = scraper.get_result_similar(amazon_url, grouped=True)\n",
    "print(data)"
   ]
  },
  {
   "cell_type": "code",
   "execution_count": 4,
   "id": "d2e64282-37df-4baa-82fa-7f3855fae5c6",
   "metadata": {},
   "outputs": [
    {
     "name": "stdout",
     "output_type": "stream",
     "text": [
      "['rule_cxq4', 'rule_gk3a', 'rule_v28f', 'rule_q9gq', 'rule_7yh1', 'rule_z77i', 'rule_b9ja', 'rule_tx40', 'rule_gulq', 'rule_uv5t', 'rule_qd5k', 'rule_q2jt']\n"
     ]
    }
   ],
   "source": [
    "# Fetching keys\n",
    "keys = list(data.keys())\n",
    "print(keys)"
   ]
  },
  {
   "cell_type": "code",
   "execution_count": 5,
   "id": "72d8907c-2577-406e-9303-ff909f32ece6",
   "metadata": {},
   "outputs": [],
   "source": [
    "# Defining alias and save them\n",
    "scraper.set_rule_aliases({str(keys[0]):'Title', str(keys[4]):'Price'})\n",
    "# scraper.set_rule_aliases({'rule_nkiw': 'Title', 'rule_spdr': 'Price'})\n",
    "scraper.keep_rules([str(keys[0]), str(keys[4])]) \n",
    "scraper.save('amazon-search')"
   ]
  },
  {
   "cell_type": "code",
   "execution_count": 6,
   "id": "b46e4529-2ffa-4540-b28d-fe23bdaee359",
   "metadata": {},
   "outputs": [],
   "source": [
    "# Testing for other search \n",
    "results=scraper.get_result_similar('https://www.amazon.in/s?k=vivo', group_by_alias=True)"
   ]
  },
  {
   "cell_type": "code",
   "execution_count": 7,
   "id": "de809eaa-db68-4b1b-98fa-537345988c59",
   "metadata": {},
   "outputs": [
    {
     "data": {
      "text/plain": [
       "{'Title': ['vivo Y18e (Space Black, 4GB RAM, 64GB Storage) with No Cost EMI/Additional Exchange Offers | without Charger',\n",
       "  'vivo Y28s 5G (Vintage Red, 6GB RAM, 128GB Storage) with No Cost EMI/Additional Exchange Offers',\n",
       "  'vivo Y28s 5G (Twinkling Purple, 6GB RAM, 128GB Storage) with No Cost EMI/Additional Exchange Offers',\n",
       "  'Vivo Y27 (Burgundy Black, 6GB RAM, 128GB Storage) with No Cost EMI/Additional Exchange Offers',\n",
       "  'Vivo Y27 (Garden Green, 6GB RAM, 128GB Storage) with No Cost EMI/Additional Exchange Offers',\n",
       "  'Amazon\\'s Choicefor \"vivo\"',\n",
       "  'Vivo Y200 5G Mobile (Jungle Green, 8GB RAM, 256GB Storage) with No Cost EMI/Additional Exchange Offers',\n",
       "  'vivo V30 5G (Peacock Green, 8GB RAM, 128GB Storage) with outOffers',\n",
       "  'Vivo Y200e 5G (Saffron Delight, 8GB RAM, 128GB Storage) with No Cost EMI/Additional Exchange Offers',\n",
       "  'vivo Y18e (Gem Green, 4GB RAM, 64GB Storage) with No Cost EMI/Additional Exchange Offers | without Charger',\n",
       "  'Vivo V30e 5G Smartphone (Velvet Red, 8GB RAM, 256GB Storage)',\n",
       "  'Vivo T2 Pro 5G (New Moon Black, 128 GB) (8 GB RAM)',\n",
       "  'vivo Y200 Pro 5G (Silk Black, 8GB RAM, 128GB Storage) with No Cost EMI/Additional Exchange Offers | 3D Curved AMOLED Display',\n",
       "  'vivo Y58 5G (Sundarbans Green, 8GB RAM, 128GB Storage) with No Cost EMI/Additional Exchange Offers',\n",
       "  'vivo Y28s 5G (Vintage Red, 4GB RAM, 128GB Storage) with No Cost EMI/Additional Exchange Offers',\n",
       "  'vivo Y18 (Space Black, 4GB RAM, 64GB Storage) with No Cost EMI/Additional Exchange Offers | without Charger',\n",
       "  'vivo V30 5G (Peacock Green, 8GB RAM, 128GB Storage) with No Cost EMI/Additional Exchange Offers'],\n",
       " 'Price': ['₹7,999',\n",
       "  '₹15,499',\n",
       "  '₹15,499',\n",
       "  '₹10,999',\n",
       "  '₹10,999',\n",
       "  '₹22,999',\n",
       "  '₹22,999',\n",
       "  '₹20,999',\n",
       "  '₹7,999',\n",
       "  '₹29,650',\n",
       "  '₹23,998',\n",
       "  '₹24,999',\n",
       "  '₹19,499',\n",
       "  '₹13,999',\n",
       "  '₹8,999',\n",
       "  '₹28,990']}"
      ]
     },
     "execution_count": 7,
     "metadata": {},
     "output_type": "execute_result"
    }
   ],
   "source": [
    "results"
   ]
  },
  {
   "cell_type": "code",
   "execution_count": 8,
   "id": "f0e60a1b-26b3-427d-b6ba-6fbd039552ad",
   "metadata": {},
   "outputs": [
    {
     "name": "stdout",
     "output_type": "stream",
     "text": [
      "(('vivo Y18e (Space Black, 4GB RAM, 64GB Storage) with No Cost EMI/Additional Exchange Offers | without Charger', '₹7,999'), ('vivo Y28s 5G (Vintage Red, 6GB RAM, 128GB Storage) with No Cost EMI/Additional Exchange Offers', '₹15,499'), ('vivo Y28s 5G (Twinkling Purple, 6GB RAM, 128GB Storage) with No Cost EMI/Additional Exchange Offers', '₹15,499'), ('Vivo Y27 (Burgundy Black, 6GB RAM, 128GB Storage) with No Cost EMI/Additional Exchange Offers', '₹10,999'), ('Vivo Y27 (Garden Green, 6GB RAM, 128GB Storage) with No Cost EMI/Additional Exchange Offers', '₹10,999'), ('Amazon\\'s Choicefor \"vivo\"', '₹22,999'), ('Vivo Y200 5G Mobile (Jungle Green, 8GB RAM, 256GB Storage) with No Cost EMI/Additional Exchange Offers', '₹22,999'), ('vivo V30 5G (Peacock Green, 8GB RAM, 128GB Storage) with outOffers', '₹20,999'), ('Vivo Y200e 5G (Saffron Delight, 8GB RAM, 128GB Storage) with No Cost EMI/Additional Exchange Offers', '₹7,999'), ('vivo Y18e (Gem Green, 4GB RAM, 64GB Storage) with No Cost EMI/Additional Exchange Offers | without Charger', '₹29,650'), ('Vivo V30e 5G Smartphone (Velvet Red, 8GB RAM, 256GB Storage)', '₹23,998'), ('Vivo T2 Pro 5G (New Moon Black, 128 GB) (8 GB RAM)', '₹24,999'), ('vivo Y200 Pro 5G (Silk Black, 8GB RAM, 128GB Storage) with No Cost EMI/Additional Exchange Offers | 3D Curved AMOLED Display', '₹19,499'), ('vivo Y58 5G (Sundarbans Green, 8GB RAM, 128GB Storage) with No Cost EMI/Additional Exchange Offers', '₹13,999'), ('vivo Y28s 5G (Vintage Red, 4GB RAM, 128GB Storage) with No Cost EMI/Additional Exchange Offers', '₹8,999'), ('vivo Y18 (Space Black, 4GB RAM, 64GB Storage) with No Cost EMI/Additional Exchange Offers | without Charger', '₹28,990'))\n"
     ]
    }
   ],
   "source": [
    "# Combine data elements into a tuple of tuples using zip\n",
    "search_data = tuple(zip(results['Title'], results['Price']))\n",
    "print(search_data)"
   ]
  },
  {
   "cell_type": "code",
   "execution_count": 9,
   "id": "2a5de14a-ed5a-4d90-88b9-4ced0ce0befb",
   "metadata": {},
   "outputs": [
    {
     "name": "stdout",
     "output_type": "stream",
     "text": [
      "(16, 2)\n"
     ]
    },
    {
     "data": {
      "text/html": [
       "<div>\n",
       "<style scoped>\n",
       "    .dataframe tbody tr th:only-of-type {\n",
       "        vertical-align: middle;\n",
       "    }\n",
       "\n",
       "    .dataframe tbody tr th {\n",
       "        vertical-align: top;\n",
       "    }\n",
       "\n",
       "    .dataframe thead th {\n",
       "        text-align: right;\n",
       "    }\n",
       "</style>\n",
       "<table border=\"1\" class=\"dataframe\">\n",
       "  <thead>\n",
       "    <tr style=\"text-align: right;\">\n",
       "      <th></th>\n",
       "      <th>Title</th>\n",
       "      <th>Price</th>\n",
       "    </tr>\n",
       "  </thead>\n",
       "  <tbody>\n",
       "    <tr>\n",
       "      <th>0</th>\n",
       "      <td>vivo Y18e (Space Black, 4GB RAM, 64GB Storage)...</td>\n",
       "      <td>₹7,999</td>\n",
       "    </tr>\n",
       "    <tr>\n",
       "      <th>1</th>\n",
       "      <td>vivo Y28s 5G (Vintage Red, 6GB RAM, 128GB Stor...</td>\n",
       "      <td>₹15,499</td>\n",
       "    </tr>\n",
       "    <tr>\n",
       "      <th>2</th>\n",
       "      <td>vivo Y28s 5G (Twinkling Purple, 6GB RAM, 128GB...</td>\n",
       "      <td>₹15,499</td>\n",
       "    </tr>\n",
       "    <tr>\n",
       "      <th>3</th>\n",
       "      <td>Vivo Y27 (Burgundy Black, 6GB RAM, 128GB Stora...</td>\n",
       "      <td>₹10,999</td>\n",
       "    </tr>\n",
       "    <tr>\n",
       "      <th>4</th>\n",
       "      <td>Vivo Y27 (Garden Green, 6GB RAM, 128GB Storage...</td>\n",
       "      <td>₹10,999</td>\n",
       "    </tr>\n",
       "    <tr>\n",
       "      <th>5</th>\n",
       "      <td>Amazon's Choicefor \"vivo\"</td>\n",
       "      <td>₹22,999</td>\n",
       "    </tr>\n",
       "    <tr>\n",
       "      <th>6</th>\n",
       "      <td>Vivo Y200 5G Mobile (Jungle Green, 8GB RAM, 25...</td>\n",
       "      <td>₹22,999</td>\n",
       "    </tr>\n",
       "    <tr>\n",
       "      <th>7</th>\n",
       "      <td>vivo V30 5G (Peacock Green, 8GB RAM, 128GB Sto...</td>\n",
       "      <td>₹20,999</td>\n",
       "    </tr>\n",
       "    <tr>\n",
       "      <th>8</th>\n",
       "      <td>Vivo Y200e 5G (Saffron Delight, 8GB RAM, 128GB...</td>\n",
       "      <td>₹7,999</td>\n",
       "    </tr>\n",
       "    <tr>\n",
       "      <th>9</th>\n",
       "      <td>vivo Y18e (Gem Green, 4GB RAM, 64GB Storage) w...</td>\n",
       "      <td>₹29,650</td>\n",
       "    </tr>\n",
       "    <tr>\n",
       "      <th>10</th>\n",
       "      <td>Vivo V30e 5G Smartphone (Velvet Red, 8GB RAM, ...</td>\n",
       "      <td>₹23,998</td>\n",
       "    </tr>\n",
       "    <tr>\n",
       "      <th>11</th>\n",
       "      <td>Vivo T2 Pro 5G (New Moon Black, 128 GB) (8 GB ...</td>\n",
       "      <td>₹24,999</td>\n",
       "    </tr>\n",
       "    <tr>\n",
       "      <th>12</th>\n",
       "      <td>vivo Y200 Pro 5G (Silk Black, 8GB RAM, 128GB S...</td>\n",
       "      <td>₹19,499</td>\n",
       "    </tr>\n",
       "    <tr>\n",
       "      <th>13</th>\n",
       "      <td>vivo Y58 5G (Sundarbans Green, 8GB RAM, 128GB ...</td>\n",
       "      <td>₹13,999</td>\n",
       "    </tr>\n",
       "    <tr>\n",
       "      <th>14</th>\n",
       "      <td>vivo Y28s 5G (Vintage Red, 4GB RAM, 128GB Stor...</td>\n",
       "      <td>₹8,999</td>\n",
       "    </tr>\n",
       "    <tr>\n",
       "      <th>15</th>\n",
       "      <td>vivo Y18 (Space Black, 4GB RAM, 64GB Storage) ...</td>\n",
       "      <td>₹28,990</td>\n",
       "    </tr>\n",
       "  </tbody>\n",
       "</table>\n",
       "</div>"
      ],
      "text/plain": [
       "                                                Title    Price\n",
       "0   vivo Y18e (Space Black, 4GB RAM, 64GB Storage)...   ₹7,999\n",
       "1   vivo Y28s 5G (Vintage Red, 6GB RAM, 128GB Stor...  ₹15,499\n",
       "2   vivo Y28s 5G (Twinkling Purple, 6GB RAM, 128GB...  ₹15,499\n",
       "3   Vivo Y27 (Burgundy Black, 6GB RAM, 128GB Stora...  ₹10,999\n",
       "4   Vivo Y27 (Garden Green, 6GB RAM, 128GB Storage...  ₹10,999\n",
       "5                           Amazon's Choicefor \"vivo\"  ₹22,999\n",
       "6   Vivo Y200 5G Mobile (Jungle Green, 8GB RAM, 25...  ₹22,999\n",
       "7   vivo V30 5G (Peacock Green, 8GB RAM, 128GB Sto...  ₹20,999\n",
       "8   Vivo Y200e 5G (Saffron Delight, 8GB RAM, 128GB...   ₹7,999\n",
       "9   vivo Y18e (Gem Green, 4GB RAM, 64GB Storage) w...  ₹29,650\n",
       "10  Vivo V30e 5G Smartphone (Velvet Red, 8GB RAM, ...  ₹23,998\n",
       "11  Vivo T2 Pro 5G (New Moon Black, 128 GB) (8 GB ...  ₹24,999\n",
       "12  vivo Y200 Pro 5G (Silk Black, 8GB RAM, 128GB S...  ₹19,499\n",
       "13  vivo Y58 5G (Sundarbans Green, 8GB RAM, 128GB ...  ₹13,999\n",
       "14  vivo Y28s 5G (Vintage Red, 4GB RAM, 128GB Stor...   ₹8,999\n",
       "15  vivo Y18 (Space Black, 4GB RAM, 64GB Storage) ...  ₹28,990"
      ]
     },
     "execution_count": 9,
     "metadata": {},
     "output_type": "execute_result"
    }
   ],
   "source": [
    "# Creating dataframe of search_data\n",
    "df = pd.DataFrame(search_data, columns=['Title', 'Price'])\n",
    "print(df.shape)\n",
    "df"
   ]
  }
 ],
 "metadata": {
  "kernelspec": {
   "display_name": "Python 3 (ipykernel)",
   "language": "python",
   "name": "python3"
  },
  "language_info": {
   "codemirror_mode": {
    "name": "ipython",
    "version": 3
   },
   "file_extension": ".py",
   "mimetype": "text/x-python",
   "name": "python",
   "nbconvert_exporter": "python",
   "pygments_lexer": "ipython3",
   "version": "3.11.7"
  }
 },
 "nbformat": 4,
 "nbformat_minor": 5
}
